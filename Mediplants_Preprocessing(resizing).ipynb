{
 "cells": [
  {
   "cell_type": "code",
   "execution_count": 2,
   "id": "61021666-5d44-4883-a2fd-82cd8c961d3d",
   "metadata": {},
   "outputs": [
    {
     "name": "stdout",
     "output_type": "stream",
     "text": [
      "Collecting split-folders\n",
      "  Using cached split_folders-0.5.1-py3-none-any.whl.metadata (6.2 kB)\n",
      "Using cached split_folders-0.5.1-py3-none-any.whl (8.4 kB)\n",
      "Installing collected packages: split-folders\n",
      "Successfully installed split-folders-0.5.1\n",
      "Note: you may need to restart the kernel to use updated packages.\n"
     ]
    }
   ],
   "source": [
    "pip install split-folders"
   ]
  },
  {
   "cell_type": "code",
   "execution_count": 3,
   "id": "90832d4b-7aab-4944-848d-e5e1b408b5ac",
   "metadata": {},
   "outputs": [],
   "source": [
    "import splitfolders"
   ]
  },
  {
   "cell_type": "code",
   "execution_count": 4,
   "id": "9812f3a0-3984-4240-830e-0b06f282365b",
   "metadata": {},
   "outputs": [
    {
     "name": "stdout",
     "output_type": "stream",
     "text": [
      "Collecting opencv-python\n",
      "  Using cached opencv_python-4.11.0.86-cp37-abi3-win_amd64.whl.metadata (20 kB)\n",
      "Requirement already satisfied: numpy>=1.21.2 in c:\\users\\sarmi\\anaconda3\\envs\\tf_env\\lib\\site-packages (from opencv-python) (1.23.5)\n",
      "Using cached opencv_python-4.11.0.86-cp37-abi3-win_amd64.whl (39.5 MB)\n",
      "Installing collected packages: opencv-python\n",
      "Successfully installed opencv-python-4.11.0.86\n"
     ]
    }
   ],
   "source": [
    "!pip install opencv-python"
   ]
  },
  {
   "cell_type": "code",
   "execution_count": 5,
   "id": "068ecce1-9158-4b00-b554-5cd143cf1181",
   "metadata": {},
   "outputs": [],
   "source": [
    "import cv2\n",
    "import os"
   ]
  },
  {
   "cell_type": "code",
   "execution_count": 6,
   "id": "0c26f6ed-f49f-4cc4-a790-d78eef4848ff",
   "metadata": {},
   "outputs": [],
   "source": [
    "import cv2\n",
    "import os\n",
    "\n",
    "input_dir = r\"C:\\Users\\Sarmi\\Downloads\\Plant_Database\\Mediplant\\Mango_Tree_2\"  # Replace with your input path\n",
    "output_dir = r\"C:\\Users\\Sarmi\\Downloads\\Plant_Database\\Mediplant\\Resized_Normalized_Mango_Tree\"  # Replace with your output path\n",
    "# Function to resize and normalize images\n",
    "def preprocess_images(input_dir, output_dir, size=(224, 224)):\n",
    "    if not os.path.exists(output_dir):\n",
    "        os.makedirs(output_dir)\n",
    "\n",
    "    for filename in os.listdir(input_dir):\n",
    "        if filename.endswith('.jpg') or filename.endswith('.png'):\n",
    "            img_path = os.path.join(input_dir, filename)\n",
    "            img = cv2.imread(img_path)\n",
    "\n",
    "            # Resize the image\n",
    "            resized_img = cv2.resize(img, size)\n",
    "\n",
    "            # Normalize pixel values to [0, 1]\n",
    "            normalized_img = resized_img / 255.0\n",
    "\n",
    "            # Save the normalized image (convert back to uint8 for saving)\n",
    "            cv2.imwrite(os.path.join(output_dir, filename), (normalized_img * 255).astype('uint8'))\n",
    "\n",
    "# Example usage\n",
    "input_dir = r\"C:\\Users\\Sarmi\\Downloads\\Plant_Database\\Mediplant\\Mango_Tree\"  # Replace with your input path\n",
    "output_dir = r\"C:\\Users\\Sarmi\\Downloads\\Plant_Database\\Mediplant\\Resized_Normalized_Mango_Tree\"  # Replace with your output path\n",
    "\n",
    "preprocess_images(input_dir, output_dir, size=(224, 224))"
   ]
  },
  {
   "cell_type": "code",
   "execution_count": 7,
   "id": "857ed28e-792e-4c1d-9930-00d470256eed",
   "metadata": {},
   "outputs": [],
   "source": [
    "#Dogfennel_Plant\n",
    "input_dir = r\"C:\\Users\\Sarmi\\Downloads\\Plant_Database\\Mediplant\\Dogfennel_Plant_2\" \n",
    "output_dir = r\"C:\\Users\\Sarmi\\Downloads\\Plant_Database\\Mediplant\\Resized_Normalized_Dogfennel_Plant\" \n",
    "\n",
    "def preprocess_images(input_dir, output_dir, size=(224, 224)):\n",
    "    if not os.path.exists(output_dir):\n",
    "        os.makedirs(output_dir)\n",
    "\n",
    "    for filename in os.listdir(input_dir):\n",
    "        if filename.endswith('.jpg') or filename.endswith('.png'):\n",
    "            img_path = os.path.join(input_dir, filename)\n",
    "            img = cv2.imread(img_path)\n",
    "            resized_img = cv2.resize(img, size)\n",
    "            normalized_img = resized_img / 255.0\n",
    "            cv2.imwrite(os.path.join(output_dir, filename), (normalized_img * 255).astype('uint8'))\n",
    "\n",
    "input_dir = r\"C:\\Users\\Sarmi\\Downloads\\Plant_Database\\Mediplant\\Dogfennel_Plant_2\" \n",
    "output_dir = r\"C:\\Users\\Sarmi\\Downloads\\Plant_Database\\Mediplant\\Resized_Normalized_Dogfennel_Plant\"\n",
    "\n",
    "preprocess_images(input_dir, output_dir, size=(224, 224))"
   ]
  },
  {
   "cell_type": "code",
   "execution_count": 8,
   "id": "c22718ed-3e09-465d-b5f3-ff73ffaa7208",
   "metadata": {},
   "outputs": [],
   "source": [
    "#Guava_Tree\n",
    "input_dir = r\"C:\\Users\\Sarmi\\Downloads\\Plant_Database\\Mediplant\\Guava_Tree_2\"\n",
    "output_dir = r\"C:\\Users\\Sarmi\\Downloads\\Plant_Database\\Mediplant\\Resized_Normalized_Guava_Tree\" \n",
    "\n",
    "def preprocess_images(input_dir, output_dir, size=(224, 224)):\n",
    "    if not os.path.exists(output_dir):\n",
    "        os.makedirs(output_dir)\n",
    "\n",
    "    for filename in os.listdir(input_dir):\n",
    "        if filename.endswith('.jpg') or filename.endswith('.png'):\n",
    "            img_path = os.path.join(input_dir, filename)\n",
    "            img = cv2.imread(img_path)\n",
    "            resized_img = cv2.resize(img, size)\n",
    "            normalized_img = resized_img / 255.0\n",
    "            cv2.imwrite(os.path.join(output_dir, filename), (normalized_img * 255).astype('uint8'))\n",
    "\n",
    "input_dir = r\"C:\\Users\\Sarmi\\Downloads\\Plant_Database\\Mediplant\\Guava_Tree_2\" \n",
    "output_dir = r\"C:\\Users\\Sarmi\\Downloads\\Plant_Database\\Mediplant\\Resized_Normalized_Guava_Tree\"\n",
    "\n",
    "preprocess_images(input_dir, output_dir, size=(224, 224))"
   ]
  },
  {
   "cell_type": "code",
   "execution_count": 9,
   "id": "9f1d3523-d183-45cf-950e-8c74b5cbf8c5",
   "metadata": {},
   "outputs": [],
   "source": [
    "#Elephant_plant\n",
    "input_dir = r\"C:\\Users\\Sarmi\\Downloads\\Plant_Database\\Mediplant\\Elephant_plant_2\"\n",
    "output_dir = r\"C:\\Users\\Sarmi\\Downloads\\Plant_Database\\Mediplant\\Resized_Normalized_Elephant_plant\" \n",
    "\n",
    "def preprocess_images(input_dir, output_dir, size=(224, 224)):\n",
    "    if not os.path.exists(output_dir):\n",
    "        os.makedirs(output_dir)\n",
    "\n",
    "    for filename in os.listdir(input_dir):\n",
    "        if filename.endswith('.jpg') or filename.endswith('.png'):\n",
    "            img_path = os.path.join(input_dir, filename)\n",
    "            img = cv2.imread(img_path)\n",
    "            resized_img = cv2.resize(img, size)\n",
    "            normalized_img = resized_img / 255.0\n",
    "            cv2.imwrite(os.path.join(output_dir, filename), (normalized_img * 255).astype('uint8'))\n",
    "\n",
    "input_dir = r\"C:\\Users\\Sarmi\\Downloads\\Plant_Database\\Mediplant\\Elephant_plant_2\" \n",
    "output_dir = r\"C:\\Users\\Sarmi\\Downloads\\Plant_Database\\Mediplant\\Resized_Normalized_Elephant_plant\"\n",
    "\n",
    "preprocess_images(input_dir, output_dir, size=(224, 224))"
   ]
  },
  {
   "cell_type": "code",
   "execution_count": 15,
   "id": "70a85f43-58c7-4c76-9e4e-ab4d976155f1",
   "metadata": {},
   "outputs": [],
   "source": [
    "#Ixora_Plant\n",
    "\n",
    "def preprocess_images(input_dir, output_dir, size=(224, 224)):\n",
    "    if not os.path.exists(output_dir):\n",
    "        os.makedirs(output_dir)\n",
    "\n",
    "    for filename in os.listdir(input_dir):\n",
    "        if filename.endswith('.jpg') or filename.endswith('.png'):\n",
    "            img_path = os.path.join(input_dir, filename)\n",
    "            img = cv2.imread(img_path)\n",
    "            resized_img = cv2.resize(img, size)\n",
    "            normalized_img = resized_img / 255.0\n",
    "            cv2.imwrite(os.path.join(output_dir, filename), (normalized_img * 255).astype('uint8'))\n",
    "\n",
    "input_dir = r\"C:\\Users\\Sarmi\\Downloads\\Plant_Database\\Mediplant\\Ixora_Plant\"\n",
    "output_dir = r\"C:\\Users\\Sarmi\\Downloads\\Plant_Database\\Mediplant\\Resized_Normalized_Ixora_Plant\"\n",
    "\n",
    "preprocess_images(input_dir, output_dir, size=(224, 224))"
   ]
  },
  {
   "cell_type": "code",
   "execution_count": 16,
   "id": "5301de20-0f94-49ce-9cf2-a2a4192684ec",
   "metadata": {},
   "outputs": [],
   "source": [
    "#Kopsia_Plant\n",
    "def preprocess_images(input_dir, output_dir, size=(224, 224)):\n",
    "    if not os.path.exists(output_dir):\n",
    "        os.makedirs(output_dir)\n",
    "\n",
    "    for filename in os.listdir(input_dir):\n",
    "        if filename.endswith('.jpg') or filename.endswith('.png'):\n",
    "            img_path = os.path.join(input_dir, filename)\n",
    "            img = cv2.imread(img_path)\n",
    "            resized_img = cv2.resize(img, size)\n",
    "            normalized_img = resized_img / 255.0\n",
    "            cv2.imwrite(os.path.join(output_dir, filename), (normalized_img * 255).astype('uint8'))\n",
    "\n",
    "input_dir = r\"C:\\Users\\Sarmi\\Downloads\\Plant_Database\\Mediplant\\Kopsia_Plant\"\n",
    "output_dir = r\"C:\\Users\\Sarmi\\Downloads\\Plant_Database\\Mediplant\\Resized_Normalized_Kopsia_Plant\"\n",
    "\n",
    "preprocess_images(input_dir, output_dir, size=(224, 224))"
   ]
  },
  {
   "cell_type": "code",
   "execution_count": 17,
   "id": "d71d1111-c2b7-4c81-b3a3-54305fe56853",
   "metadata": {},
   "outputs": [],
   "source": [
    "#Tulsi_plant\n",
    "def preprocess_images(input_dir, output_dir, size=(224, 224)):\n",
    "    if not os.path.exists(output_dir):\n",
    "        os.makedirs(output_dir)\n",
    "\n",
    "    for filename in os.listdir(input_dir):\n",
    "        if filename.endswith('.jpg') or filename.endswith('.png'):\n",
    "            img_path = os.path.join(input_dir, filename)\n",
    "            img = cv2.imread(img_path)\n",
    "            resized_img = cv2.resize(img, size)\n",
    "            normalized_img = resized_img / 255.0\n",
    "            cv2.imwrite(os.path.join(output_dir, filename), (normalized_img * 255).astype('uint8'))\n",
    "\n",
    "input_dir = r\"C:\\Users\\Sarmi\\Downloads\\Plant_Database\\Mediplant\\Tulsi_plant\"\n",
    "output_dir = r\"C:\\Users\\Sarmi\\Downloads\\Plant_Database\\Mediplant\\Resized_Normalized_Tulsi_plant\"\n",
    "\n",
    "preprocess_images(input_dir, output_dir, size=(224, 224))"
   ]
  },
  {
   "cell_type": "code",
   "execution_count": 18,
   "id": "31279b13-250c-4271-990c-722f695fe71f",
   "metadata": {},
   "outputs": [],
   "source": [
    "#Dracaena_trifasciata_plant\n",
    "def preprocess_images(input_dir, output_dir, size=(224, 224)):\n",
    "    if not os.path.exists(output_dir):\n",
    "        os.makedirs(output_dir)\n",
    "\n",
    "    for filename in os.listdir(input_dir):\n",
    "        if filename.endswith('.jpg') or filename.endswith('.png'):\n",
    "            img_path = os.path.join(input_dir, filename)\n",
    "            img = cv2.imread(img_path)\n",
    "            resized_img = cv2.resize(img, size)\n",
    "            normalized_img = resized_img / 255.0\n",
    "            cv2.imwrite(os.path.join(output_dir, filename), (normalized_img * 255).astype('uint8'))\n",
    "\n",
    "input_dir = r\"C:\\Users\\Sarmi\\Downloads\\Plant_Database\\Mediplant\\Dracaena_trifasciata_plant\"\n",
    "output_dir = r\"C:\\Users\\Sarmi\\Downloads\\Plant_Database\\Mediplant\\Resized_Normalized_Dracaena_trifasciata_plant\"\n",
    "\n",
    "preprocess_images(input_dir, output_dir, size=(224, 224))"
   ]
  },
  {
   "cell_type": "code",
   "execution_count": 20,
   "id": "a9743023-48f7-41d2-a961-2bd406c1fe33",
   "metadata": {},
   "outputs": [],
   "source": [
    "#Hibiscus_Tree\n",
    "def preprocess_images(input_dir, output_dir, size=(224, 224)):\n",
    "    if not os.path.exists(output_dir):\n",
    "        os.makedirs(output_dir)\n",
    "\n",
    "    for filename in os.listdir(input_dir):\n",
    "        if filename.endswith('.jpg') or filename.endswith('.png'):\n",
    "            img_path = os.path.join(input_dir, filename)\n",
    "            img = cv2.imread(img_path)\n",
    "            resized_img = cv2.resize(img, size)\n",
    "            normalized_img = resized_img / 255.0\n",
    "            cv2.imwrite(os.path.join(output_dir, filename), (normalized_img * 255).astype('uint8'))\n",
    "\n",
    "input_dir = r\"C:\\Users\\Sarmi\\Downloads\\Plant_Database\\Mediplant\\Hibiscus_Tree\"\n",
    "output_dir = r\"C:\\Users\\Sarmi\\Downloads\\Plant_Database\\Mediplant\\Resized_Normalized_Hibiscus_Tree\"\n",
    "\n",
    "preprocess_images(input_dir, output_dir, size=(224, 224))"
   ]
  },
  {
   "cell_type": "code",
   "execution_count": 10,
   "id": "da02d726-3700-49e9-9958-62278e7e8b4e",
   "metadata": {},
   "outputs": [],
   "source": [
    "#Neem_Tree\n",
    "def preprocess_images(input_dir, output_dir, size=(224, 224)):\n",
    "    if not os.path.exists(output_dir):\n",
    "        os.makedirs(output_dir)\n",
    "\n",
    "    for filename in os.listdir(input_dir):\n",
    "        if filename.endswith('.jpg') or filename.endswith('.png'):\n",
    "            img_path = os.path.join(input_dir, filename)\n",
    "            img = cv2.imread(img_path)\n",
    "            resized_img = cv2.resize(img, size)\n",
    "            normalized_img = resized_img / 255.0\n",
    "            cv2.imwrite(os.path.join(output_dir, filename), (normalized_img * 255).astype('uint8'))\n",
    "\n",
    "input_dir = r\"C:\\Users\\Sarmi\\Downloads\\Plant_Database\\Mediplant\\Neem_Tree_2\"\n",
    "output_dir = r\"C:\\Users\\Sarmi\\Downloads\\Plant_Database\\Mediplant\\Resized_Normalized_Neem_Tree\"\n",
    "\n",
    "preprocess_images(input_dir, output_dir, size=(224, 224))"
   ]
  },
  {
   "cell_type": "code",
   "execution_count": 22,
   "id": "f2714855-f252-459e-9910-57428e137399",
   "metadata": {},
   "outputs": [
    {
     "name": "stdout",
     "output_type": "stream",
     "text": [
      "Requirement already satisfied: tensorflow in c:\\users\\sarmi\\anaconda3\\lib\\site-packages (2.19.0)Note: you may need to restart the kernel to use updated packages.\n",
      "\n",
      "Requirement already satisfied: absl-py>=1.0.0 in c:\\users\\sarmi\\anaconda3\\lib\\site-packages (from tensorflow) (2.1.0)\n",
      "Requirement already satisfied: astunparse>=1.6.0 in c:\\users\\sarmi\\anaconda3\\lib\\site-packages (from tensorflow) (1.6.3)\n",
      "Requirement already satisfied: flatbuffers>=24.3.25 in c:\\users\\sarmi\\anaconda3\\lib\\site-packages (from tensorflow) (25.2.10)\n",
      "Requirement already satisfied: gast!=0.5.0,!=0.5.1,!=0.5.2,>=0.2.1 in c:\\users\\sarmi\\anaconda3\\lib\\site-packages (from tensorflow) (0.6.0)\n",
      "Requirement already satisfied: google-pasta>=0.1.1 in c:\\users\\sarmi\\anaconda3\\lib\\site-packages (from tensorflow) (0.2.0)\n",
      "Requirement already satisfied: libclang>=13.0.0 in c:\\users\\sarmi\\anaconda3\\lib\\site-packages (from tensorflow) (18.1.1)\n",
      "Requirement already satisfied: opt-einsum>=2.3.2 in c:\\users\\sarmi\\anaconda3\\lib\\site-packages (from tensorflow) (3.4.0)\n",
      "Requirement already satisfied: packaging in c:\\users\\sarmi\\anaconda3\\lib\\site-packages (from tensorflow) (23.2)\n",
      "Requirement already satisfied: protobuf!=4.21.0,!=4.21.1,!=4.21.2,!=4.21.3,!=4.21.4,!=4.21.5,<6.0.0dev,>=3.20.3 in c:\\users\\sarmi\\anaconda3\\lib\\site-packages (from tensorflow) (3.20.3)\n",
      "Requirement already satisfied: requests<3,>=2.21.0 in c:\\users\\sarmi\\anaconda3\\lib\\site-packages (from tensorflow) (2.32.2)\n",
      "Requirement already satisfied: setuptools in c:\\users\\sarmi\\anaconda3\\lib\\site-packages (from tensorflow) (69.5.1)\n",
      "Requirement already satisfied: six>=1.12.0 in c:\\users\\sarmi\\anaconda3\\lib\\site-packages (from tensorflow) (1.16.0)\n",
      "Requirement already satisfied: termcolor>=1.1.0 in c:\\users\\sarmi\\anaconda3\\lib\\site-packages (from tensorflow) (2.5.0)\n",
      "Requirement already satisfied: typing-extensions>=3.6.6 in c:\\users\\sarmi\\anaconda3\\lib\\site-packages (from tensorflow) (4.11.0)\n",
      "Requirement already satisfied: wrapt>=1.11.0 in c:\\users\\sarmi\\anaconda3\\lib\\site-packages (from tensorflow) (1.14.1)\n",
      "Requirement already satisfied: grpcio<2.0,>=1.24.3 in c:\\users\\sarmi\\anaconda3\\lib\\site-packages (from tensorflow) (1.71.0)\n",
      "Requirement already satisfied: tensorboard~=2.19.0 in c:\\users\\sarmi\\anaconda3\\lib\\site-packages (from tensorflow) (2.19.0)\n",
      "Requirement already satisfied: keras>=3.5.0 in c:\\users\\sarmi\\anaconda3\\lib\\site-packages (from tensorflow) (3.9.0)\n",
      "Requirement already satisfied: numpy<2.2.0,>=1.26.0 in c:\\users\\sarmi\\anaconda3\\lib\\site-packages (from tensorflow) (1.26.4)\n",
      "Requirement already satisfied: h5py>=3.11.0 in c:\\users\\sarmi\\anaconda3\\lib\\site-packages (from tensorflow) (3.11.0)\n",
      "Requirement already satisfied: ml-dtypes<1.0.0,>=0.5.1 in c:\\users\\sarmi\\anaconda3\\lib\\site-packages (from tensorflow) (0.5.1)\n",
      "Requirement already satisfied: wheel<1.0,>=0.23.0 in c:\\users\\sarmi\\anaconda3\\lib\\site-packages (from astunparse>=1.6.0->tensorflow) (0.43.0)\n",
      "Requirement already satisfied: rich in c:\\users\\sarmi\\anaconda3\\lib\\site-packages (from keras>=3.5.0->tensorflow) (13.3.5)\n",
      "Requirement already satisfied: namex in c:\\users\\sarmi\\anaconda3\\lib\\site-packages (from keras>=3.5.0->tensorflow) (0.0.8)\n",
      "Requirement already satisfied: optree in c:\\users\\sarmi\\anaconda3\\lib\\site-packages (from keras>=3.5.0->tensorflow) (0.14.1)\n",
      "Requirement already satisfied: charset-normalizer<4,>=2 in c:\\users\\sarmi\\anaconda3\\lib\\site-packages (from requests<3,>=2.21.0->tensorflow) (2.0.4)\n",
      "Requirement already satisfied: idna<4,>=2.5 in c:\\users\\sarmi\\anaconda3\\lib\\site-packages (from requests<3,>=2.21.0->tensorflow) (3.7)\n",
      "Requirement already satisfied: urllib3<3,>=1.21.1 in c:\\users\\sarmi\\anaconda3\\lib\\site-packages (from requests<3,>=2.21.0->tensorflow) (2.2.2)\n",
      "Requirement already satisfied: certifi>=2017.4.17 in c:\\users\\sarmi\\anaconda3\\lib\\site-packages (from requests<3,>=2.21.0->tensorflow) (2024.6.2)\n",
      "Requirement already satisfied: markdown>=2.6.8 in c:\\users\\sarmi\\anaconda3\\lib\\site-packages (from tensorboard~=2.19.0->tensorflow) (3.4.1)\n",
      "Requirement already satisfied: tensorboard-data-server<0.8.0,>=0.7.0 in c:\\users\\sarmi\\anaconda3\\lib\\site-packages (from tensorboard~=2.19.0->tensorflow) (0.7.2)\n",
      "Requirement already satisfied: werkzeug>=1.0.1 in c:\\users\\sarmi\\anaconda3\\lib\\site-packages (from tensorboard~=2.19.0->tensorflow) (3.0.3)\n",
      "Requirement already satisfied: MarkupSafe>=2.1.1 in c:\\users\\sarmi\\anaconda3\\lib\\site-packages (from werkzeug>=1.0.1->tensorboard~=2.19.0->tensorflow) (2.1.3)\n",
      "Requirement already satisfied: markdown-it-py<3.0.0,>=2.2.0 in c:\\users\\sarmi\\anaconda3\\lib\\site-packages (from rich->keras>=3.5.0->tensorflow) (2.2.0)\n",
      "Requirement already satisfied: pygments<3.0.0,>=2.13.0 in c:\\users\\sarmi\\anaconda3\\lib\\site-packages (from rich->keras>=3.5.0->tensorflow) (2.15.1)\n",
      "Requirement already satisfied: mdurl~=0.1 in c:\\users\\sarmi\\anaconda3\\lib\\site-packages (from markdown-it-py<3.0.0,>=2.2.0->rich->keras>=3.5.0->tensorflow) (0.1.0)\n"
     ]
    }
   ],
   "source": [
    "pip install tensorflow"
   ]
  },
  {
   "cell_type": "code",
   "execution_count": 24,
   "id": "2e7fff60-770f-43b8-8903-76093ec7bd08",
   "metadata": {},
   "outputs": [
    {
     "name": "stdout",
     "output_type": "stream",
     "text": [
      "Requirement already satisfied: tensorflow in c:\\users\\sarmi\\anaconda3\\lib\\site-packages (2.19.0)Note: you may need to restart the kernel to use updated packages.\n",
      "\n",
      "Requirement already satisfied: absl-py>=1.0.0 in c:\\users\\sarmi\\anaconda3\\lib\\site-packages (from tensorflow) (2.1.0)\n",
      "Requirement already satisfied: astunparse>=1.6.0 in c:\\users\\sarmi\\anaconda3\\lib\\site-packages (from tensorflow) (1.6.3)\n",
      "Requirement already satisfied: flatbuffers>=24.3.25 in c:\\users\\sarmi\\anaconda3\\lib\\site-packages (from tensorflow) (25.2.10)\n",
      "Requirement already satisfied: gast!=0.5.0,!=0.5.1,!=0.5.2,>=0.2.1 in c:\\users\\sarmi\\anaconda3\\lib\\site-packages (from tensorflow) (0.6.0)\n",
      "Requirement already satisfied: google-pasta>=0.1.1 in c:\\users\\sarmi\\anaconda3\\lib\\site-packages (from tensorflow) (0.2.0)\n",
      "Requirement already satisfied: libclang>=13.0.0 in c:\\users\\sarmi\\anaconda3\\lib\\site-packages (from tensorflow) (18.1.1)\n",
      "Requirement already satisfied: opt-einsum>=2.3.2 in c:\\users\\sarmi\\anaconda3\\lib\\site-packages (from tensorflow) (3.4.0)\n",
      "Requirement already satisfied: packaging in c:\\users\\sarmi\\anaconda3\\lib\\site-packages (from tensorflow) (23.2)\n",
      "Requirement already satisfied: protobuf!=4.21.0,!=4.21.1,!=4.21.2,!=4.21.3,!=4.21.4,!=4.21.5,<6.0.0dev,>=3.20.3 in c:\\users\\sarmi\\anaconda3\\lib\\site-packages (from tensorflow) (3.20.3)\n",
      "Requirement already satisfied: requests<3,>=2.21.0 in c:\\users\\sarmi\\anaconda3\\lib\\site-packages (from tensorflow) (2.32.2)\n",
      "Requirement already satisfied: setuptools in c:\\users\\sarmi\\anaconda3\\lib\\site-packages (from tensorflow) (69.5.1)\n",
      "Requirement already satisfied: six>=1.12.0 in c:\\users\\sarmi\\anaconda3\\lib\\site-packages (from tensorflow) (1.16.0)\n",
      "Requirement already satisfied: termcolor>=1.1.0 in c:\\users\\sarmi\\anaconda3\\lib\\site-packages (from tensorflow) (2.5.0)\n",
      "Requirement already satisfied: typing-extensions>=3.6.6 in c:\\users\\sarmi\\anaconda3\\lib\\site-packages (from tensorflow) (4.11.0)\n",
      "Requirement already satisfied: wrapt>=1.11.0 in c:\\users\\sarmi\\anaconda3\\lib\\site-packages (from tensorflow) (1.14.1)\n",
      "Requirement already satisfied: grpcio<2.0,>=1.24.3 in c:\\users\\sarmi\\anaconda3\\lib\\site-packages (from tensorflow) (1.71.0)\n",
      "Requirement already satisfied: tensorboard~=2.19.0 in c:\\users\\sarmi\\anaconda3\\lib\\site-packages (from tensorflow) (2.19.0)\n",
      "Requirement already satisfied: keras>=3.5.0 in c:\\users\\sarmi\\anaconda3\\lib\\site-packages (from tensorflow) (3.9.0)\n",
      "Requirement already satisfied: numpy<2.2.0,>=1.26.0 in c:\\users\\sarmi\\anaconda3\\lib\\site-packages (from tensorflow) (1.26.4)\n",
      "Requirement already satisfied: h5py>=3.11.0 in c:\\users\\sarmi\\anaconda3\\lib\\site-packages (from tensorflow) (3.11.0)\n",
      "Requirement already satisfied: ml-dtypes<1.0.0,>=0.5.1 in c:\\users\\sarmi\\anaconda3\\lib\\site-packages (from tensorflow) (0.5.1)\n",
      "Requirement already satisfied: wheel<1.0,>=0.23.0 in c:\\users\\sarmi\\anaconda3\\lib\\site-packages (from astunparse>=1.6.0->tensorflow) (0.43.0)\n",
      "Requirement already satisfied: rich in c:\\users\\sarmi\\anaconda3\\lib\\site-packages (from keras>=3.5.0->tensorflow) (13.3.5)\n",
      "Requirement already satisfied: namex in c:\\users\\sarmi\\anaconda3\\lib\\site-packages (from keras>=3.5.0->tensorflow) (0.0.8)\n",
      "Requirement already satisfied: optree in c:\\users\\sarmi\\anaconda3\\lib\\site-packages (from keras>=3.5.0->tensorflow) (0.14.1)\n",
      "Requirement already satisfied: charset-normalizer<4,>=2 in c:\\users\\sarmi\\anaconda3\\lib\\site-packages (from requests<3,>=2.21.0->tensorflow) (2.0.4)\n",
      "Requirement already satisfied: idna<4,>=2.5 in c:\\users\\sarmi\\anaconda3\\lib\\site-packages (from requests<3,>=2.21.0->tensorflow) (3.7)\n",
      "Requirement already satisfied: urllib3<3,>=1.21.1 in c:\\users\\sarmi\\anaconda3\\lib\\site-packages (from requests<3,>=2.21.0->tensorflow) (2.2.2)\n",
      "Requirement already satisfied: certifi>=2017.4.17 in c:\\users\\sarmi\\anaconda3\\lib\\site-packages (from requests<3,>=2.21.0->tensorflow) (2024.6.2)\n",
      "Requirement already satisfied: markdown>=2.6.8 in c:\\users\\sarmi\\anaconda3\\lib\\site-packages (from tensorboard~=2.19.0->tensorflow) (3.4.1)\n",
      "Requirement already satisfied: tensorboard-data-server<0.8.0,>=0.7.0 in c:\\users\\sarmi\\anaconda3\\lib\\site-packages (from tensorboard~=2.19.0->tensorflow) (0.7.2)\n",
      "Requirement already satisfied: werkzeug>=1.0.1 in c:\\users\\sarmi\\anaconda3\\lib\\site-packages (from tensorboard~=2.19.0->tensorflow) (3.0.3)\n",
      "Requirement already satisfied: MarkupSafe>=2.1.1 in c:\\users\\sarmi\\anaconda3\\lib\\site-packages (from werkzeug>=1.0.1->tensorboard~=2.19.0->tensorflow) (2.1.3)\n",
      "Requirement already satisfied: markdown-it-py<3.0.0,>=2.2.0 in c:\\users\\sarmi\\anaconda3\\lib\\site-packages (from rich->keras>=3.5.0->tensorflow) (2.2.0)\n",
      "Requirement already satisfied: pygments<3.0.0,>=2.13.0 in c:\\users\\sarmi\\anaconda3\\lib\\site-packages (from rich->keras>=3.5.0->tensorflow) (2.15.1)\n",
      "Requirement already satisfied: mdurl~=0.1 in c:\\users\\sarmi\\anaconda3\\lib\\site-packages (from markdown-it-py<3.0.0,>=2.2.0->rich->keras>=3.5.0->tensorflow) (0.1.0)\n"
     ]
    }
   ],
   "source": [
    "pip install --upgrade tensorflow"
   ]
  },
  {
   "cell_type": "code",
   "execution_count": 1,
   "id": "b357df9e-f208-4219-9ff4-af68294a507d",
   "metadata": {},
   "outputs": [
    {
     "name": "stdout",
     "output_type": "stream",
     "text": [
      "Requirement already satisfied: numpy in c:\\users\\sarmi\\anaconda3\\lib\\site-packages (1.26.4)\n",
      "Requirement already satisfied: wheel in c:\\users\\sarmi\\anaconda3\\lib\\site-packages (0.43.0)\n",
      "Note: you may need to restart the kernel to use updated packages.\n"
     ]
    }
   ],
   "source": [
    "pip install numpy wheel"
   ]
  },
  {
   "cell_type": "code",
   "execution_count": 6,
   "id": "dae83019-9c90-47e8-bbff-381bb06c6ecc",
   "metadata": {},
   "outputs": [],
   "source": [
    "#Alovera_Plant\n",
    "def preprocess_images(input_dir, output_dir, size=(224, 224)):\n",
    "    if not os.path.exists(output_dir):\n",
    "        os.makedirs(output_dir)\n",
    "\n",
    "    for filename in os.listdir(input_dir):\n",
    "        if filename.endswith('.jpg') or filename.endswith('.png'):\n",
    "            img_path = os.path.join(input_dir, filename)\n",
    "            img = cv2.imread(img_path)\n",
    "            resized_img = cv2.resize(img, size)\n",
    "            normalized_img = resized_img / 255.0\n",
    "            cv2.imwrite(os.path.join(output_dir, filename), (normalized_img * 255).astype('uint8'))\n",
    "\n",
    "input_dir = r\"C:\\Users\\Sarmi\\Downloads\\Plant_Database\\Mediplant\\Alovera_Plant\"\n",
    "output_dir = r\"C:\\Users\\Sarmi\\Downloads\\Plant_Database\\Mediplant\\Resized_Normalized_Alovera_Plant\"\n",
    "\n",
    "preprocess_images(input_dir, output_dir, size=(224, 224))"
   ]
  },
  {
   "cell_type": "code",
   "execution_count": null,
   "id": "b2855560-2b35-42b6-a993-3cb3484ce462",
   "metadata": {},
   "outputs": [],
   "source": []
  }
 ],
 "metadata": {
  "kernelspec": {
   "display_name": "Python 3 (ipykernel)",
   "language": "python",
   "name": "python3"
  },
  "language_info": {
   "codemirror_mode": {
    "name": "ipython",
    "version": 3
   },
   "file_extension": ".py",
   "mimetype": "text/x-python",
   "name": "python",
   "nbconvert_exporter": "python",
   "pygments_lexer": "ipython3",
   "version": "3.10.16"
  }
 },
 "nbformat": 4,
 "nbformat_minor": 5
}
